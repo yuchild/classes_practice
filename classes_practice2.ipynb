{
 "cells": [
  {
   "cell_type": "code",
   "execution_count": 1,
   "metadata": {},
   "outputs": [],
   "source": [
    "from autos import car\n",
    "\n",
    "%reload_ext autoreload\n",
    "%autoreload 2"
   ]
  },
  {
   "cell_type": "code",
   "execution_count": 2,
   "metadata": {},
   "outputs": [],
   "source": [
    "audi = car('audi a4', 'blue')\n",
    "ferrari = car('ferrari 488', 'green')"
   ]
  },
  {
   "cell_type": "code",
   "execution_count": 3,
   "metadata": {},
   "outputs": [
    {
     "name": "stdout",
     "output_type": "stream",
     "text": [
      "Model is: audi a4\n",
      "Color is: blue\n",
      "Model is: ferrari 488\n",
      "Color is: green\n"
     ]
    }
   ],
   "source": [
    "audi.show()\n",
    "ferrari.show()"
   ]
  },
  {
   "cell_type": "code",
   "execution_count": 4,
   "metadata": {},
   "outputs": [],
   "source": [
    "from dogs import Dog"
   ]
  },
  {
   "cell_type": "code",
   "execution_count": 5,
   "metadata": {},
   "outputs": [],
   "source": [
    "dog_instance = Dog()"
   ]
  },
  {
   "cell_type": "code",
   "execution_count": 6,
   "metadata": {},
   "outputs": [
    {
     "name": "stdout",
     "output_type": "stream",
     "text": [
      "mamal\n"
     ]
    }
   ],
   "source": [
    "print(dog_instance.attr1)"
   ]
  },
  {
   "cell_type": "code",
   "execution_count": 7,
   "metadata": {},
   "outputs": [
    {
     "name": "stdout",
     "output_type": "stream",
     "text": [
      "I'm a mamal\n",
      "I'm a dog\n"
     ]
    }
   ],
   "source": [
    "dog_instance.func()"
   ]
  },
  {
   "cell_type": "code",
   "execution_count": 8,
   "metadata": {},
   "outputs": [],
   "source": [
    "from dogs import Person"
   ]
  },
  {
   "cell_type": "code",
   "execution_count": 9,
   "metadata": {},
   "outputs": [
    {
     "name": "stdout",
     "output_type": "stream",
     "text": [
      "Hello my name is David\n"
     ]
    }
   ],
   "source": [
    "p = Person('David')\n",
    "p.say_hi()"
   ]
  },
  {
   "cell_type": "code",
   "execution_count": 10,
   "metadata": {},
   "outputs": [],
   "source": [
    "from dogs import SuperDog"
   ]
  },
  {
   "cell_type": "code",
   "execution_count": 11,
   "metadata": {},
   "outputs": [],
   "source": [
    "Happy = SuperDog('pug', 'brown')\n",
    "Lucky = SuperDog('bulldog', 'black')"
   ]
  },
  {
   "cell_type": "code",
   "execution_count": 12,
   "metadata": {},
   "outputs": [
    {
     "name": "stdout",
     "output_type": "stream",
     "text": [
      "Happy Details: \n",
      "Happy is a dog\n",
      "Breed: pug\n",
      "Color: brown\n",
      "\n",
      "Lucky Details: \n",
      "Lucky is a dog\n",
      "Breed: bulldog\n",
      "Color: black\n",
      "\n",
      "Accessing class variable using class name:\n",
      "dog\n"
     ]
    }
   ],
   "source": [
    "print('Happy Details: ')\n",
    "print(f'Happy is a {Happy.animal}')\n",
    "print(f'Breed: {Happy.breed}')\n",
    "print(f'Color: {Happy.color}')\n",
    "\n",
    "print('\\nLucky Details: ')\n",
    "print(f'Lucky is a {Lucky.animal}')\n",
    "print(f'Breed: {Lucky.breed}')\n",
    "print(f'Color: {Lucky.color}')\n",
    "\n",
    "print('\\nAccessing class variable using class name:')\n",
    "print(SuperDog.animal)"
   ]
  },
  {
   "cell_type": "code",
   "execution_count": 13,
   "metadata": {},
   "outputs": [
    {
     "name": "stdout",
     "output_type": "stream",
     "text": [
      "Lucky Details: \n",
      "Lucky is a dog\n",
      "Breed: bulldog\n",
      "Color: black\n"
     ]
    }
   ],
   "source": [
    "print('Lucky Details: ')\n",
    "print(f'Lucky is a {Lucky.animal}')\n",
    "print(f'Breed: {Lucky.breed}')\n",
    "print(f'Color: {Lucky.color}')"
   ]
  },
  {
   "cell_type": "code",
   "execution_count": 14,
   "metadata": {},
   "outputs": [],
   "source": [
    "from doggy import Doggy"
   ]
  },
  {
   "cell_type": "code",
   "execution_count": 15,
   "metadata": {},
   "outputs": [
    {
     "name": "stdout",
     "output_type": "stream",
     "text": [
      "brown\n"
     ]
    }
   ],
   "source": [
    "Happy = Doggy(\"pug\")\n",
    "Happy.setColor('brown')\n",
    "print(Happy.getColor())"
   ]
  },
  {
   "cell_type": "code",
   "execution_count": null,
   "metadata": {},
   "outputs": [],
   "source": []
  }
 ],
 "metadata": {
  "kernelspec": {
   "display_name": "Python 3",
   "language": "python",
   "name": "python3"
  },
  "language_info": {
   "codemirror_mode": {
    "name": "ipython",
    "version": 3
   },
   "file_extension": ".py",
   "mimetype": "text/x-python",
   "name": "python",
   "nbconvert_exporter": "python",
   "pygments_lexer": "ipython3",
   "version": "3.8.6"
  }
 },
 "nbformat": 4,
 "nbformat_minor": 4
}
